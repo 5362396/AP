{
 "cells": [
  {
   "metadata": {},
   "cell_type": "markdown",
   "source": "### Zadanie 1. Napisz program, który wyszuka w łańcuchu ciągi cyfr (0-9) o długości od 1 do 3. „Ćwiczenia numer 1, 12, 13 i 345 są ważne”",
   "id": "c363d8c28553beb"
  },
  {
   "cell_type": "code",
   "id": "initial_id",
   "metadata": {
    "collapsed": true,
    "ExecuteTime": {
     "end_time": "2024-12-02T14:25:48.796176Z",
     "start_time": "2024-12-02T14:25:48.779879Z"
    }
   },
   "source": [
    "import re\n",
    "\n",
    "def find_numbers(text):\n",
    "    regex = r'\\b\\d{1,3}\\b'\n",
    "    return re.findall(regex, text)\n",
    "\n",
    "print(find_numbers('Ćwiczenia numer 1, 12, 13 i 345 są ważne'))"
   ],
   "outputs": [
    {
     "name": "stdout",
     "output_type": "stream",
     "text": [
      "['1', '12', '13', '345']\n"
     ]
    }
   ],
   "execution_count": 34
  },
  {
   "metadata": {},
   "cell_type": "markdown",
   "source": "### Zadanie 2. Napisz program, który wyszuka konkretne słowa w łańcuchu znaków. Przykładowy tekst: „Szybki brązowy lis przeskakuje nad leniwym psem”. Szukane słowa: „lis”, „pies”, „koń”",
   "id": "ca30cf9dfdd12e51"
  },
  {
   "metadata": {
    "ExecuteTime": {
     "end_time": "2024-12-02T14:25:48.849495Z",
     "start_time": "2024-12-02T14:25:48.832595Z"
    }
   },
   "cell_type": "code",
   "source": [
    "def find_different_words(text, words):\n",
    "    regex = r'\\b(' + '|'.join(words) + r')\\b'\n",
    "    return re.findall(regex, text)\n",
    "\n",
    "text_fox = 'Szybki brązowy lis przeskakuje nad leniwym psem'\n",
    "print(find_different_words(text_fox, ['lis', 'pies', 'koń']))"
   ],
   "id": "1ea349fc3c387161",
   "outputs": [
    {
     "name": "stdout",
     "output_type": "stream",
     "text": [
      "['lis']\n"
     ]
    }
   ],
   "execution_count": 35
  },
  {
   "metadata": {},
   "cell_type": "markdown",
   "source": "### Zadanie 3. Napisz program, który wyszuka w łańcuchu konkretne słowo, a także poda położenie tego słowa w łańcuchu. Przykładowy tekst: „Szybki brązowy lis przeskakuje nad leniwym psem”. Szukane słowa: „lis”.",
   "id": "26530dafc8953972"
  },
  {
   "metadata": {
    "ExecuteTime": {
     "end_time": "2024-12-02T14:25:48.854889Z",
     "start_time": "2024-12-02T14:25:48.849495Z"
    }
   },
   "cell_type": "code",
   "source": [
    "def find_word_with_position(text, word):\n",
    "    results = [(i.start(), i.end()) for i in re.finditer(rf'\\b{word}\\b', text)]\n",
    "    return results\n",
    "\n",
    "print(find_word_with_position(text_fox, 'lis'))"
   ],
   "id": "45e45dc8991bcd4a",
   "outputs": [
    {
     "name": "stdout",
     "output_type": "stream",
     "text": [
      "[(15, 18)]\n"
     ]
    }
   ],
   "execution_count": 36
  },
  {
   "metadata": {},
   "cell_type": "markdown",
   "source": "### Zadanie 4. Napisz program, który znajduje w łańcuchu podany podłańcuch. Przykładowy tekst: „Ćwiczenia z Pythona, ćwiczenia z Javy, ćwiczenia z C++” Wzór: „ćwiczenia” Uwaga: W łańcuchu wejściowym występują dwa wystąpienia słowa ćwiczenia.",
   "id": "8d5a9f33fcfee0c6"
  },
  {
   "metadata": {
    "ExecuteTime": {
     "end_time": "2024-12-02T14:25:48.859842Z",
     "start_time": "2024-12-02T14:25:48.854889Z"
    }
   },
   "cell_type": "code",
   "source": [
    "def find_words(text, substring):\n",
    "    results = re.escape(substring)\n",
    "    return re.findall(results, text)\n",
    "\n",
    "text_exercises = 'Ćwiczenia z Pythona, ćwiczenia z Javy, ćwiczenia z C++'\n",
    "substring_exercises = 'ćwiczenia'\n",
    "print(find_words(text_exercises, substring_exercises))"
   ],
   "id": "95793b48a833c7b0",
   "outputs": [
    {
     "name": "stdout",
     "output_type": "stream",
     "text": [
      "['ćwiczenia', 'ćwiczenia']\n"
     ]
    }
   ],
   "execution_count": 37
  },
  {
   "metadata": {},
   "cell_type": "markdown",
   "source": "### Zadanie 5. Napisz program, który znajduje wystąpienie i pozycję podłańcucha w łańcuchu.",
   "id": "43ce4c1ba39ce922"
  },
  {
   "metadata": {
    "ExecuteTime": {
     "end_time": "2024-12-02T14:25:48.865962Z",
     "start_time": "2024-12-02T14:25:48.859842Z"
    }
   },
   "cell_type": "code",
   "source": [
    "def find_words_with_position(text, substring):\n",
    "    results = re.escape(substring)\n",
    "    return [(i.start(), i.end()) for i in re.finditer(results, text)]\n",
    "\n",
    "print(find_words_with_position(text_exercises, substring_exercises))"
   ],
   "id": "ac8ee7929410b2ef",
   "outputs": [
    {
     "name": "stdout",
     "output_type": "stream",
     "text": [
      "[(21, 30), (39, 48)]\n"
     ]
    }
   ],
   "execution_count": 38
  },
  {
   "metadata": {},
   "cell_type": "markdown",
   "source": "### Zadanie 6. Napisz program, który oddzieli i wydrukuje liczby z danego łańcucha.",
   "id": "5dc03e2d8dc2e06a"
  },
  {
   "metadata": {
    "ExecuteTime": {
     "end_time": "2024-12-02T14:25:48.871085Z",
     "start_time": "2024-12-02T14:25:48.865962Z"
    }
   },
   "cell_type": "code",
   "source": [
    "def split_numbers(text):\n",
    "    regex = r'\\d+'\n",
    "    return re.findall(regex, text)\n",
    "\n",
    "print(split_numbers('123, abc, 456, def, 789'))"
   ],
   "id": "cdcdac1100202584",
   "outputs": [
    {
     "name": "stdout",
     "output_type": "stream",
     "text": [
      "['123', '456', '789']\n"
     ]
    }
   ],
   "execution_count": 39
  },
  {
   "metadata": {},
   "cell_type": "markdown",
   "source": "### Zadanie 7. Napisz program, który znajduje w danym łańcuchu wszystkie słowa zaczynające się od a lub e.",
   "id": "520f74619a77dddd"
  },
  {
   "metadata": {
    "ExecuteTime": {
     "end_time": "2024-12-02T14:25:48.877456Z",
     "start_time": "2024-12-02T14:25:48.871085Z"
    }
   },
   "cell_type": "code",
   "source": [
    "def start_with_a_or_e(text):\n",
    "    regex = r'\\b[aeAE]\\w*\\b'\n",
    "    return re.findall(regex, text)\n",
    "\n",
    "print(start_with_a_or_e('ananas, banan, cytryna, drożdże, eukaliptus, Ekierka'))"
   ],
   "id": "482aa4edcab3d197",
   "outputs": [
    {
     "name": "stdout",
     "output_type": "stream",
     "text": [
      "['ananas', 'eukaliptus', 'Ekierka']\n"
     ]
    }
   ],
   "execution_count": 40
  },
  {
   "metadata": {},
   "cell_type": "markdown",
   "source": "### Zadanie 8. Napisz program, który oddzieli i wydrukuje liczby i ich pozycję dla podanego łańcucha.",
   "id": "e51a88f701bb1bcd"
  },
  {
   "metadata": {
    "ExecuteTime": {
     "end_time": "2024-12-02T14:25:48.884267Z",
     "start_time": "2024-12-02T14:25:48.877456Z"
    }
   },
   "cell_type": "code",
   "source": [
    "def numbers_with_position(text):\n",
    "    regex = r'\\d+'\n",
    "    return [(i.group(), i.start(), i.end()) for i in re.finditer(regex, text)]\n",
    "\n",
    "print(numbers_with_position('Liczby: 123, 456 i 789.'))  "
   ],
   "id": "8df8822a5554f4dc",
   "outputs": [
    {
     "name": "stdout",
     "output_type": "stream",
     "text": [
      "[('123', 8, 11), ('456', 13, 16), ('789', 19, 22)]\n"
     ]
    }
   ],
   "execution_count": 41
  },
  {
   "metadata": {},
   "cell_type": "markdown",
   "source": "### Zadanie 9. Napisz program, który znajduje w łańcuchu wszystkie słowa o długości 5.",
   "id": "2954df430c3b67e1"
  },
  {
   "metadata": {
    "ExecuteTime": {
     "end_time": "2024-12-02T14:25:48.930336Z",
     "start_time": "2024-12-02T14:25:48.915643Z"
    }
   },
   "cell_type": "code",
   "source": [
    "def five_letter_words(text):\n",
    "    regex = r'\\b\\w{5}\\b'\n",
    "    return re.findall(regex, text)\n",
    "\n",
    "test_text = 'Jeden dwa trzy robię test ważny i dokładny'\n",
    "print(five_letter_words(test_text))"
   ],
   "id": "4713a728a543386c",
   "outputs": [
    {
     "name": "stdout",
     "output_type": "stream",
     "text": [
      "['Jeden', 'robię', 'ważny']\n"
     ]
    }
   ],
   "execution_count": 42
  },
  {
   "metadata": {},
   "cell_type": "markdown",
   "source": "### Zadanie 10. Napisz program, który znajduje w łańcuchu wszystkie słowa o długości od 1 do 5.",
   "id": "7ceeb15178c0a47a"
  },
  {
   "metadata": {
    "ExecuteTime": {
     "end_time": "2024-12-02T14:25:48.946573Z",
     "start_time": "2024-12-02T14:25:48.930336Z"
    }
   },
   "cell_type": "code",
   "source": [
    "def one_to_five_letter_words(text):\n",
    "    regex = r'\\b\\w{1,5}\\b'\n",
    "    return re.findall(regex, text)\n",
    "\n",
    "print(one_to_five_letter_words(test_text))"
   ],
   "id": "54d94d283e036cea",
   "outputs": [
    {
     "name": "stdout",
     "output_type": "stream",
     "text": [
      "['Jeden', 'dwa', 'trzy', 'robię', 'test', 'ważny', 'i']\n"
     ]
    }
   ],
   "execution_count": 43
  },
  {
   "metadata": {},
   "cell_type": "markdown",
   "source": "### Zadanie 11. Napisz program, który znajduje w łańcuchu wszystkie słowa o długości co najmniej 4.",
   "id": "17746bb4d8504cbd"
  },
  {
   "metadata": {
    "ExecuteTime": {
     "end_time": "2024-12-02T14:25:48.951005Z",
     "start_time": "2024-12-02T14:25:48.946573Z"
    }
   },
   "cell_type": "code",
   "source": [
    "def four_or_more_letter_words(text):\n",
    "    regex = r'\\b\\w{4,}\\b'\n",
    "    return re.findall(regex, text)\n",
    "\n",
    "print(four_or_more_letter_words(test_text))"
   ],
   "id": "1ecc4dcab5ea32f8",
   "outputs": [
    {
     "name": "stdout",
     "output_type": "stream",
     "text": [
      "['Jeden', 'trzy', 'robię', 'test', 'ważny', 'dokładny']\n"
     ]
    }
   ],
   "execution_count": 44
  },
  {
   "metadata": {},
   "cell_type": "markdown",
   "source": "### Zadanie 12. Napisz program, który wyodrębni wszystkie podciągi znajdujące się między cudzysłowami.",
   "id": "8eefea4d6b00a36c"
  },
  {
   "metadata": {
    "ExecuteTime": {
     "end_time": "2024-12-02T14:25:48.958228Z",
     "start_time": "2024-12-02T14:25:48.951005Z"
    }
   },
   "cell_type": "code",
   "source": [
    "def substrings_in_quotes(text):\n",
    "    regex = r'\"(.*?)\"'\n",
    "    return re.findall(regex, text)\n",
    "\n",
    "print(substrings_in_quotes('Jan powiedział \"Cześć Pawle\", a Paweł odpowiedział mu \"Witaj Janie\".'))"
   ],
   "id": "5417053b85e18dca",
   "outputs": [
    {
     "name": "stdout",
     "output_type": "stream",
     "text": [
      "['Cześć Pawle', 'Witaj Janie']\n"
     ]
    }
   ],
   "execution_count": 45
  },
  {
   "metadata": {},
   "cell_type": "markdown",
   "source": "### Zadanie 13. Napisz program, który znajdzie w łańcuchu wszystkie adresy URL.",
   "id": "92c7d911489c6b66"
  },
  {
   "metadata": {
    "ExecuteTime": {
     "end_time": "2024-12-02T14:25:48.993677Z",
     "start_time": "2024-12-02T14:25:48.974005Z"
    }
   },
   "cell_type": "code",
   "source": [
    "def find_urls(text):\n",
    "    regex = r'https?://[^\\s,]+'\n",
    "    return re.findall(regex, text)\n",
    "\n",
    "text = 'Użyj wyszukiwarki https://www.google.com lub https://bing.com aby przeglądać internet'\n",
    "print(find_urls(text))"
   ],
   "id": "c7ef3199684ab58b",
   "outputs": [
    {
     "name": "stdout",
     "output_type": "stream",
     "text": [
      "['https://www.google.com', 'https://bing.com']\n"
     ]
    }
   ],
   "execution_count": 46
  },
  {
   "metadata": {},
   "cell_type": "markdown",
   "source": "### Zadanie 14. Napisz program, który podzieli łańcuch na słowa zaczynające się od wielkiej litery.",
   "id": "a814b20387cd0f52"
  },
  {
   "metadata": {
    "ExecuteTime": {
     "end_time": "2024-12-02T14:25:49.009170Z",
     "start_time": "2024-12-02T14:25:48.993677Z"
    }
   },
   "cell_type": "code",
   "source": [
    "def split_uppercase_words(text):\n",
    "    regex = r'[A-Z][a-z]*'\n",
    "    return re.findall(regex, text)\n",
    "\n",
    "print(split_uppercase_words('Kilka WyrazowZWielkiej_Litery'))"
   ],
   "id": "6f1e80e32bd29f8f",
   "outputs": [
    {
     "name": "stdout",
     "output_type": "stream",
     "text": [
      "['Kilka', 'Wyrazow', 'Z', 'Wielkiej', 'Litery']\n"
     ]
    }
   ],
   "execution_count": 47
  },
  {
   "metadata": {},
   "cell_type": "markdown",
   "source": "### Zadanie 15. Napisz program, który sprawdzi czy zapis liczby rzeczywistej ma co najwyżej dwie cyfry po kropce dziesiętnej.",
   "id": "875d2feb6efb17f5"
  },
  {
   "metadata": {
    "ExecuteTime": {
     "end_time": "2024-12-02T14:25:49.015297Z",
     "start_time": "2024-12-02T14:25:49.009170Z"
    }
   },
   "cell_type": "code",
   "source": [
    "def max_two_decimal_numbers(text):\n",
    "    regex = r'^\\d+(\\.\\d{1,2})?$'\n",
    "    return bool(re.match(regex, text))\n",
    "\n",
    "print(max_two_decimal_numbers('123'))\n",
    "print(max_two_decimal_numbers('123.4'))\n",
    "print(max_two_decimal_numbers('123.45'))\n",
    "print(max_two_decimal_numbers('123.456'))"
   ],
   "id": "2d7fa86486da6923",
   "outputs": [
    {
     "name": "stdout",
     "output_type": "stream",
     "text": [
      "True\n",
      "True\n",
      "True\n",
      "False\n"
     ]
    }
   ],
   "execution_count": 48
  }
 ],
 "metadata": {
  "kernelspec": {
   "display_name": "Python 3",
   "language": "python",
   "name": "python3"
  },
  "language_info": {
   "codemirror_mode": {
    "name": "ipython",
    "version": 2
   },
   "file_extension": ".py",
   "mimetype": "text/x-python",
   "name": "python",
   "nbconvert_exporter": "python",
   "pygments_lexer": "ipython2",
   "version": "2.7.6"
  }
 },
 "nbformat": 4,
 "nbformat_minor": 5
}
