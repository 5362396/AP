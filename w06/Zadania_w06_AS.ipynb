{
 "cells": [
  {
   "metadata": {},
   "cell_type": "markdown",
   "source": "### Zadanie 1. Napisz program, który sprawdza, czy łańcuch zawiera tylko pewien zestaw znaków (w tym przypadku a-z, A-Z i 0-9).",
   "id": "4ed5afc7d5cad743"
  },
  {
   "cell_type": "code",
   "id": "initial_id",
   "metadata": {
    "collapsed": true,
    "ExecuteTime": {
     "end_time": "2024-12-01T18:21:31.992680Z",
     "start_time": "2024-12-01T18:21:31.989783Z"
    }
   },
   "source": [
    "import re\n",
    "\n",
    "def contains_allowed(text):\n",
    "    allowed = r'^[a-zA-Z0-9]+$'\n",
    "    return bool(re.match(allowed, text))\n",
    "\n",
    "print(contains_allowed('DozwoloneZnaki123'))\n",
    "print(contains_allowed('Niedozwolone znaki !@#'))"
   ],
   "outputs": [
    {
     "name": "stdout",
     "output_type": "stream",
     "text": [
      "True\n",
      "False\n"
     ]
    }
   ],
   "execution_count": 254
  },
  {
   "metadata": {},
   "cell_type": "markdown",
   "source": "### Zadanie 2. Napisz program, który dopasowuje łańcuch znaków, zaczynający się od litery a, po której występuje zero lub więcej liter b.",
   "id": "5d1f151921f90862"
  },
  {
   "metadata": {
    "ExecuteTime": {
     "end_time": "2024-12-01T18:21:32.020854Z",
     "start_time": "2024-12-01T18:21:32.017052Z"
    }
   },
   "cell_type": "code",
   "source": [
    "def b_after_a_zero_plus(text):\n",
    "    allowed = r'^ab*$'\n",
    "    return bool(re.match(allowed, text))\n",
    "\n",
    "print(b_after_a_zero_plus('a'))\n",
    "print(b_after_a_zero_plus('abb'))\n",
    "print(b_after_a_zero_plus('abbb'))\n",
    "print(b_after_a_zero_plus('abc'))"
   ],
   "id": "1f3a7ef628e81aad",
   "outputs": [
    {
     "name": "stdout",
     "output_type": "stream",
     "text": [
      "True\n",
      "True\n",
      "True\n",
      "False\n"
     ]
    }
   ],
   "execution_count": 255
  },
  {
   "metadata": {},
   "cell_type": "markdown",
   "source": "### Zadanie 3. Napisz program, który dopasowuje łańcuch znaków, zaczynający się od litery a, po której występuje co najmniej jedna litera b.",
   "id": "367b905b256427c5"
  },
  {
   "metadata": {
    "ExecuteTime": {
     "end_time": "2024-12-01T18:21:32.032678Z",
     "start_time": "2024-12-01T18:21:32.029241Z"
    }
   },
   "cell_type": "code",
   "source": [
    "def b_after_a_one_plus(text):\n",
    "    allowed = r'^ab+$'\n",
    "    return bool(re.match(allowed, text))\n",
    "\n",
    "print(b_after_a_one_plus('a'))\n",
    "print(b_after_a_zero_plus('abb'))\n",
    "print(b_after_a_one_plus('abbb'))\n",
    "print(b_after_a_one_plus('abc'))"
   ],
   "id": "7a003dbcf7be8f49",
   "outputs": [
    {
     "name": "stdout",
     "output_type": "stream",
     "text": [
      "False\n",
      "True\n",
      "True\n",
      "False\n"
     ]
    }
   ],
   "execution_count": 256
  },
  {
   "metadata": {},
   "cell_type": "markdown",
   "source": "### Zadanie 4. Napisz program, który dopasowuje łańcuch znaków, zaczynający się od litery a, po której występują trzy litery b.",
   "id": "8678d31988c4a4a9"
  },
  {
   "metadata": {
    "ExecuteTime": {
     "end_time": "2024-12-01T18:21:32.036743Z",
     "start_time": "2024-12-01T18:21:32.033685Z"
    }
   },
   "cell_type": "code",
   "source": [
    "def b_after_a_three(text):\n",
    "    allowed = r'^ab{3}$'\n",
    "    return bool(re.match(allowed, text))\n",
    "\n",
    "print(b_after_a_three('a'))\n",
    "print(b_after_a_three('abb'))\n",
    "print(b_after_a_three('abbb'))\n",
    "print(b_after_a_three('abc'))"
   ],
   "id": "ad6f750956bc2c8e",
   "outputs": [
    {
     "name": "stdout",
     "output_type": "stream",
     "text": [
      "False\n",
      "False\n",
      "True\n",
      "False\n"
     ]
    }
   ],
   "execution_count": 257
  },
  {
   "metadata": {},
   "cell_type": "markdown",
   "source": "### Zadanie 5. Napisz program, który dopasowuje łańcuch znaków, zaczynający się od litery a, po której występuje od dwóch do trzech liter b.",
   "id": "63a60ff8fa82f417"
  },
  {
   "metadata": {
    "ExecuteTime": {
     "end_time": "2024-12-01T18:21:32.040027Z",
     "start_time": "2024-12-01T18:21:32.036743Z"
    }
   },
   "cell_type": "code",
   "source": [
    "def b_after_a_two_three(text):\n",
    "    allowed = r'^ab{2,3}$'\n",
    "    return bool(re.match(allowed, text))\n",
    "\n",
    "print(b_after_a_two_three('a'))\n",
    "print(b_after_a_two_three('abb'))\n",
    "print(b_after_a_two_three('abbb'))\n",
    "print(b_after_a_two_three('abc'))"
   ],
   "id": "e6a2acde6174c0c2",
   "outputs": [
    {
     "name": "stdout",
     "output_type": "stream",
     "text": [
      "False\n",
      "True\n",
      "True\n",
      "False\n"
     ]
    }
   ],
   "execution_count": 258
  },
  {
   "metadata": {},
   "cell_type": "markdown",
   "source": "### Zadanie 6. Napisz program, który znajduje sekwencje małych liter połączone podkreślnikiem.",
   "id": "b5e90352e6be7329"
  },
  {
   "metadata": {
    "ExecuteTime": {
     "end_time": "2024-12-01T18:21:32.044225Z",
     "start_time": "2024-12-01T18:21:32.040154Z"
    }
   },
   "cell_type": "code",
   "source": [
    "def lower_underscore(text):\n",
    "    regex = r'[a-z]+_[a-z]+'\n",
    "    return re.findall(regex, text)\n",
    "\n",
    "print(lower_underscore('abc_def abcdef abc-def abc__def abc_DEF ABC_def abc_123 def_abc'))"
   ],
   "id": "393ef4887d9c273b",
   "outputs": [
    {
     "name": "stdout",
     "output_type": "stream",
     "text": [
      "['abc_def', 'def_abc']\n"
     ]
    }
   ],
   "execution_count": 259
  },
  {
   "metadata": {},
   "cell_type": "markdown",
   "source": "### Zadanie 7. Napisz program, który znajduje łańcuchy zawierające jedną wielką literę, a następnie małe litery.",
   "id": "4efd08a752e8ccd4"
  },
  {
   "metadata": {
    "ExecuteTime": {
     "end_time": "2024-12-01T18:21:32.048034Z",
     "start_time": "2024-12-01T18:21:32.045193Z"
    }
   },
   "cell_type": "code",
   "source": [
    "def upper_lower(text):\n",
    "    regex = r'[A-Z][a-z]+'\n",
    "    return re.findall(regex, text)\n",
    "\n",
    "print(upper_lower('Abc Def AbcDef Abc-Def Abc123 D123ef'))"
   ],
   "id": "3a58b5c1d3d1159e",
   "outputs": [
    {
     "name": "stdout",
     "output_type": "stream",
     "text": [
      "['Abc', 'Def', 'Abc', 'Def', 'Abc', 'Def', 'Abc']\n"
     ]
    }
   ],
   "execution_count": 260
  },
  {
   "metadata": {},
   "cell_type": "markdown",
   "source": "### Zadanie 8. Napisz program, który dopasowuje łańcuch znaków, zaczynający się od litery a, po której występuje dowolny ciąg znaków kończący się literą b.",
   "id": "c59859b9fe4bb002"
  },
  {
   "metadata": {
    "ExecuteTime": {
     "end_time": "2024-12-01T18:21:32.052112Z",
     "start_time": "2024-12-01T18:21:32.049042Z"
    }
   },
   "cell_type": "code",
   "source": [
    "def b_after_a_separated(text):\n",
    "    regex = r'^a.*b$'\n",
    "    return bool(re.match(regex, text))\n",
    "\n",
    "print(b_after_a_separated('abc ab'))\n",
    "print(b_after_a_separated('Abc aB'))\n",
    "print(b_after_a_separated('abc ba'))"
   ],
   "id": "774f053353d20332",
   "outputs": [
    {
     "name": "stdout",
     "output_type": "stream",
     "text": [
      "True\n",
      "False\n",
      "False\n"
     ]
    }
   ],
   "execution_count": 261
  },
  {
   "metadata": {},
   "cell_type": "markdown",
   "source": "### Zadanie 9. Napisz program, który dopasowuje podane słowo na początku łańcucha. (Przez słowo rozumiemy ciąg znaków alfanumerycznych.)",
   "id": "c8ffd12a919dd807"
  },
  {
   "metadata": {
    "ExecuteTime": {
     "end_time": "2024-12-01T18:21:32.056333Z",
     "start_time": "2024-12-01T18:21:32.053220Z"
    }
   },
   "cell_type": "code",
   "source": [
    "def match_first_word(text, word):\n",
    "    regex = rf'^{word}\\b'\n",
    "    return bool(re.match(regex, text))\n",
    "\n",
    "print(match_first_word('Pierwsze słowo jest najważniejsze.', 'Pierwsze'))\n",
    "print(match_first_word('Pierwsze słowo jest najważniejsze.', 'najważniejsze'))"
   ],
   "id": "4fd8175519c1a19b",
   "outputs": [
    {
     "name": "stdout",
     "output_type": "stream",
     "text": [
      "True\n",
      "False\n"
     ]
    }
   ],
   "execution_count": 262
  },
  {
   "metadata": {},
   "cell_type": "markdown",
   "source": "### Zadanie 10. Napisz program, który dopasowuje słowo na końcu łańcucha, z opcjonalną interpunkcją.",
   "id": "174c6a60dca6c567"
  },
  {
   "metadata": {
    "ExecuteTime": {
     "end_time": "2024-12-01T18:21:32.060942Z",
     "start_time": "2024-12-01T18:21:32.056333Z"
    }
   },
   "cell_type": "code",
   "source": [
    "def match_last_word(text, word):\n",
    "    regex = rf'\\b{word}[.,!?]?$'\n",
    "    return bool(re.search(regex, text))\n",
    "\n",
    "print(match_last_word('Ostatnie słowo jest najważniejsze.', 'Ostatnie'))\n",
    "print(match_last_word('Ostatnie słowo jest najważniejsze.', 'najważniejsze'))"
   ],
   "id": "9bf40477ce5a6c43",
   "outputs": [
    {
     "name": "stdout",
     "output_type": "stream",
     "text": [
      "False\n",
      "True\n"
     ]
    }
   ],
   "execution_count": 263
  },
  {
   "metadata": {},
   "cell_type": "markdown",
   "source": "### Zadanie 11. Napisz program, który znajduje w łańcuchu słowa zawierające literę z.",
   "id": "b87c48f4391aab64"
  },
  {
   "metadata": {
    "ExecuteTime": {
     "end_time": "2024-12-01T18:21:32.066800Z",
     "start_time": "2024-12-01T18:21:32.061086Z"
    }
   },
   "cell_type": "code",
   "source": [
    "def words_with_z(text):\n",
    "    regex = r'\\b\\w*z\\w*\\b'\n",
    "    return re.findall(regex, text)\n",
    "\n",
    "print(words_with_z('ząb zupa zębowa dąb zupa dębowa'))"
   ],
   "id": "cb202c4ee41255d3",
   "outputs": [
    {
     "name": "stdout",
     "output_type": "stream",
     "text": [
      "['ząb', 'zupa', 'zębowa', 'zupa']\n"
     ]
    }
   ],
   "execution_count": 264
  },
  {
   "metadata": {},
   "cell_type": "markdown",
   "source": "### Zadanie 12. Napisz program, który znajduje w łańcuch słowa zawierające z, ale nie na początku lub końcu słowa.",
   "id": "b84e3375394cd405"
  },
  {
   "metadata": {
    "ExecuteTime": {
     "end_time": "2024-12-01T18:21:32.073482Z",
     "start_time": "2024-12-01T18:21:32.067807Z"
    }
   },
   "cell_type": "code",
   "source": [
    "def words_with_z_inside(text):\n",
    "    regex = r'\\b\\w+z\\w+\\b'\n",
    "    return re.findall(regex, text)\n",
    "\n",
    "print(words_with_z_inside('ząb zupa zębowa dąb zupa dębowa bez brzdęk'))"
   ],
   "id": "d27c65e83b6f1578",
   "outputs": [
    {
     "name": "stdout",
     "output_type": "stream",
     "text": [
      "['brzdęk']\n"
     ]
    }
   ],
   "execution_count": 265
  },
  {
   "metadata": {},
   "cell_type": "markdown",
   "source": "### Zadanie 13. Napisz program, który znajduje w łańcuchu podłańcuch zawierający tylko wielkie i małe litery, cyfry oraz znaki podkreślenia.",
   "id": "3577285c339e76a1"
  },
  {
   "metadata": {
    "ExecuteTime": {
     "end_time": "2024-12-01T18:21:32.076867Z",
     "start_time": "2024-12-01T18:21:32.074459Z"
    }
   },
   "cell_type": "code",
   "source": [
    "def find_substring(text):\n",
    "    regex = r'\\b[\\w]+\\b'\n",
    "    return re.findall(regex, text)\n",
    "\n",
    "print(find_substring('Abc!de_F g@hi.j1k'))"
   ],
   "id": "1028a23b04428ee5",
   "outputs": [
    {
     "name": "stdout",
     "output_type": "stream",
     "text": [
      "['Abc', 'de_F', 'g', 'hi', 'j1k']\n"
     ]
    }
   ],
   "execution_count": 266
  },
  {
   "metadata": {},
   "cell_type": "markdown",
   "source": "### Zadanie 14. Napisz program, który dopasowuje łańcuch, gdy zaczyna się on od określonej cyfry.",
   "id": "fb4915f48fe10ad5"
  },
  {
   "metadata": {
    "ExecuteTime": {
     "end_time": "2024-12-01T18:21:32.080230Z",
     "start_time": "2024-12-01T18:21:32.076867Z"
    }
   },
   "cell_type": "code",
   "source": [
    "def starts_with_digit(text, digit):\n",
    "    regex = rf'^{digit}\\d*'\n",
    "    return bool(re.match(regex, text))\n",
    "\n",
    "print(starts_with_digit('123abc', '1'))\n",
    "print(starts_with_digit('abc123', '1'))"
   ],
   "id": "3da7155511f1f493",
   "outputs": [
    {
     "name": "stdout",
     "output_type": "stream",
     "text": [
      "True\n",
      "False\n"
     ]
    }
   ],
   "execution_count": 267
  },
  {
   "metadata": {},
   "cell_type": "markdown",
   "source": "### Zadanie 15. Napisz program, który dopasowuje łańcuch, o ile na końcu łańcucha znajduje się dowolna cyfra.",
   "id": "3e4bf261ef735d3a"
  },
  {
   "metadata": {
    "ExecuteTime": {
     "end_time": "2024-12-01T18:21:32.094018Z",
     "start_time": "2024-12-01T18:21:32.089448Z"
    }
   },
   "cell_type": "code",
   "source": [
    "def ends_with_digit(text):\n",
    "    pattern = r'\\d$'\n",
    "    return bool(re.search(pattern, text))\n",
    "\n",
    "print(ends_with_digit('abc123'))\n",
    "print(ends_with_digit('abc'))"
   ],
   "id": "724a159fe18d750c",
   "outputs": [
    {
     "name": "stdout",
     "output_type": "stream",
     "text": [
      "True\n",
      "False\n"
     ]
    }
   ],
   "execution_count": 268
  }
 ],
 "metadata": {
  "kernelspec": {
   "display_name": "Python 3",
   "language": "python",
   "name": "python3"
  },
  "language_info": {
   "codemirror_mode": {
    "name": "ipython",
    "version": 2
   },
   "file_extension": ".py",
   "mimetype": "text/x-python",
   "name": "python",
   "nbconvert_exporter": "python",
   "pygments_lexer": "ipython2",
   "version": "2.7.6"
  }
 },
 "nbformat": 4,
 "nbformat_minor": 5
}
