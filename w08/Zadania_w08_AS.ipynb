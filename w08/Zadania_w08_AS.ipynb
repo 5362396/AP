{
 "cells": [
  {
   "metadata": {},
   "cell_type": "markdown",
   "source": "### Zadanie 1. Napisz program, który usunie początkowe zera z adresu IP.",
   "id": "dcaa95ef429bac22"
  },
  {
   "cell_type": "code",
   "id": "initial_id",
   "metadata": {
    "collapsed": true,
    "ExecuteTime": {
     "end_time": "2024-12-02T15:03:39.662721Z",
     "start_time": "2024-12-02T15:03:39.645135Z"
    }
   },
   "source": [
    "import re\n",
    "\n",
    "def remove_zeros_from_ip(ip):\n",
    "    regex = r'\\b0+(\\d+)'\n",
    "    replace = r'\\1'\n",
    "    return re.sub(regex, replace, ip)\n",
    "\n",
    "print(remove_zeros_from_ip('018.193.020.001'))"
   ],
   "outputs": [
    {
     "name": "stdout",
     "output_type": "stream",
     "text": [
      "18.193.20.1\n"
     ]
    }
   ],
   "execution_count": 29
  },
  {
   "metadata": {},
   "cell_type": "markdown",
   "source": "### Zadanie 2. Napisz program, który zastąpi spacje znakiem podkreślenia i na odwrót.",
   "id": "b25c031e8bb06638"
  },
  {
   "metadata": {
    "ExecuteTime": {
     "end_time": "2024-12-02T15:03:39.745055Z",
     "start_time": "2024-12-02T15:03:39.737706Z"
    }
   },
   "cell_type": "code",
   "source": [
    "def replace_space_and_underscore(text):\n",
    "    regex = r'[ _]'\n",
    "    return re.sub(regex, lambda x: '_' if x.group() == ' ' else ' ', text)\n",
    "\n",
    "print(replace_space_and_underscore('Oto jest_testowy tekst'))"
   ],
   "id": "2b78bb9cb52a6413",
   "outputs": [
    {
     "name": "stdout",
     "output_type": "stream",
     "text": [
      "Oto_jest testowy_tekst\n"
     ]
    }
   ],
   "execution_count": 30
  },
  {
   "metadata": {},
   "cell_type": "markdown",
   "source": "### Zadanie 3. Napisz program, który wyodrębni rok, miesiąc i datę z adresu URL.",
   "id": "c90d3454c1298117"
  },
  {
   "metadata": {
    "ExecuteTime": {
     "end_time": "2024-12-02T15:03:39.755505Z",
     "start_time": "2024-12-02T15:03:39.745055Z"
    }
   },
   "cell_type": "code",
   "source": [
    "def extract_date_from_url(url):\n",
    "    regex = r'(\\d{4})-(\\d{2})-(\\d{2})'\n",
    "    match = re.search(regex, url)\n",
    "    if match:\n",
    "        return match.groups()\n",
    "    return None\n",
    "\n",
    "print(extract_date_from_url('https://example.com/some_folder/2024-10-25/some_file.txt'))"
   ],
   "id": "3ce621138087af75",
   "outputs": [
    {
     "name": "stdout",
     "output_type": "stream",
     "text": [
      "('2024', '10', '25')\n"
     ]
    }
   ],
   "execution_count": 31
  },
  {
   "metadata": {},
   "cell_type": "markdown",
   "source": "### Zadanie 4. Napisz program, który przekonwertuje datę w formacie rrrr-mm-dd na format dd-mm-rrrr.",
   "id": "cb04b50cd50d5ebc"
  },
  {
   "metadata": {
    "ExecuteTime": {
     "end_time": "2024-12-02T15:03:39.762362Z",
     "start_time": "2024-12-02T15:03:39.755505Z"
    }
   },
   "cell_type": "code",
   "source": [
    "def convert_date_format(date):\n",
    "    regex = r'(\\d{4})-(\\d{2})-(\\d{2})'\n",
    "    replace = r'\\3-\\2-\\1'\n",
    "    return re.sub(regex, replace, date)\n",
    "\n",
    "print(convert_date_format('2024-12-02'))"
   ],
   "id": "b0d274da8d349080",
   "outputs": [
    {
     "name": "stdout",
     "output_type": "stream",
     "text": [
      "02-12-2024\n"
     ]
    }
   ],
   "execution_count": 32
  },
  {
   "metadata": {},
   "cell_type": "markdown",
   "source": "### Zadanie 5. Napisz program, który oddzieli i wydrukuje liczby z danego łańcucha.",
   "id": "5769eb6de187e365"
  },
  {
   "metadata": {
    "ExecuteTime": {
     "end_time": "2024-12-02T15:03:39.767050Z",
     "start_time": "2024-12-02T15:03:39.762362Z"
    }
   },
   "cell_type": "code",
   "source": [
    "def split_numbers(text):\n",
    "    regex = r'\\d+'\n",
    "    return re.findall(regex, text)\n",
    "\n",
    "print(split_numbers('123, abc, 456, def, 789'))"
   ],
   "id": "cb6e3d44d040ccb7",
   "outputs": [
    {
     "name": "stdout",
     "output_type": "stream",
     "text": [
      "['123', '456', '789']\n"
     ]
    }
   ],
   "execution_count": 33
  },
  {
   "metadata": {},
   "cell_type": "markdown",
   "source": "### Zadanie 6. Napisz program, który w danym łańcuchu skróci Road do Rd..",
   "id": "e2aeef2323cca45e"
  },
  {
   "metadata": {
    "ExecuteTime": {
     "end_time": "2024-12-02T15:03:39.772378Z",
     "start_time": "2024-12-02T15:03:39.767050Z"
    }
   },
   "cell_type": "code",
   "source": [
    "def shorten_road(text):\n",
    "    regex = r'\\bRoad\\b'\n",
    "    replace = 'Rd.'\n",
    "    return re.sub(regex, replace, text)\n",
    "\n",
    "print(shorten_road('511-5762 At Road Chelsea MI 67708'))"
   ],
   "id": "34ba579949c3dde2",
   "outputs": [
    {
     "name": "stdout",
     "output_type": "stream",
     "text": [
      "511-5762 At Rd. Chelsea MI 67708\n"
     ]
    }
   ],
   "execution_count": 34
  },
  {
   "metadata": {},
   "cell_type": "markdown",
   "source": "### Zadanie 7. Napisz program, który zastąpi wszystkie wystąpienia odstępu, przecinka lub kropki dwukropkiem.",
   "id": "cb5ac94a10c91fff"
  },
  {
   "metadata": {
    "ExecuteTime": {
     "end_time": "2024-12-02T15:04:48.486599Z",
     "start_time": "2024-12-02T15:04:48.475542Z"
    }
   },
   "cell_type": "code",
   "source": [
    "def replace_with_colon(text):\n",
    "    regex = r'[ ,.]'\n",
    "    replace = ':'\n",
    "    return re.sub(regex, replace, text)\n",
    "\n",
    "print(replace_with_colon('Oto jest, testowy tekst.'))"
   ],
   "id": "70f22ec704467dc6",
   "outputs": [
    {
     "name": "stdout",
     "output_type": "stream",
     "text": [
      "Oto:jest::testowy:tekst:\n"
     ]
    }
   ],
   "execution_count": 36
  },
  {
   "metadata": {},
   "cell_type": "markdown",
   "source": "### Zadanie 8. Napisz program, który zastąpi maksimum dwa wystąpienie spacji, przecinka lub kropki dwukropkiem.",
   "id": "12af5350ba6861f0"
  },
  {
   "metadata": {
    "ExecuteTime": {
     "end_time": "2024-12-02T15:08:02.531939Z",
     "start_time": "2024-12-02T15:08:02.521881Z"
    }
   },
   "cell_type": "code",
   "source": [
    "def replace_with_colon_max_two(text):\n",
    "    regex = r'[ ,.]'\n",
    "    replace = ':'\n",
    "    return re.sub(regex, replace, text, count=2)\n",
    "\n",
    "print(replace_with_colon_max_two('Oto jest, testowy tekst.'))"
   ],
   "id": "5112f27751a9f75f",
   "outputs": [
    {
     "name": "stdout",
     "output_type": "stream",
     "text": [
      "Oto:jest: testowy tekst.\n"
     ]
    }
   ],
   "execution_count": 39
  },
  {
   "metadata": {},
   "cell_type": "markdown",
   "source": "### Zadanie 9. Napisz program, który przekształci napis typu camelCase w napis typu snake_case.",
   "id": "744377780af7c8c3"
  },
  {
   "metadata": {
    "ExecuteTime": {
     "end_time": "2024-12-02T15:10:22.858008Z",
     "start_time": "2024-12-02T15:10:22.846739Z"
    }
   },
   "cell_type": "code",
   "source": [
    "def camel_to_snake(text):\n",
    "    regex = r'(?<!^)(?=[A-Z])'\n",
    "    replace = '_'\n",
    "    return re.sub(regex, replace, text).lower()\n",
    "\n",
    "print(camel_to_snake('tekstWCzcionceWielbłąda'))"
   ],
   "id": "4af7ec1d7dbd8513",
   "outputs": [
    {
     "name": "stdout",
     "output_type": "stream",
     "text": [
      "tekst_w_czcionce_wielbłąda\n"
     ]
    }
   ],
   "execution_count": 40
  },
  {
   "metadata": {},
   "cell_type": "markdown",
   "source": "### Zadanie 10. Napisz program, który przekształci napis typu snake_case w napis typu camelCase.",
   "id": "39f064960d589d91"
  },
  {
   "metadata": {
    "ExecuteTime": {
     "end_time": "2024-12-02T15:14:27.565849Z",
     "start_time": "2024-12-02T15:14:27.554778Z"
    }
   },
   "cell_type": "code",
   "source": [
    "def snake_to_camel(text):\n",
    "    regex = r'_([a-z])'\n",
    "    return re.sub(regex, lambda match: match.group(1).upper(), text)\n",
    "\n",
    "print(snake_to_camel('tekst_w_czcionce_węża'))"
   ],
   "id": "d2602cda1eb47e4f",
   "outputs": [
    {
     "name": "stdout",
     "output_type": "stream",
     "text": [
      "tekstWCzcionceWęża\n"
     ]
    }
   ],
   "execution_count": 42
  },
  {
   "metadata": {},
   "cell_type": "markdown",
   "source": "### Zadanie 11. Napisz program, który zamieni każdy podłańcuch złożony z wielu spacji na jedną spację.",
   "id": "fb5142af92ff6af0"
  },
  {
   "metadata": {
    "ExecuteTime": {
     "end_time": "2024-12-02T15:18:49.370325Z",
     "start_time": "2024-12-02T15:18:49.356334Z"
    }
   },
   "cell_type": "code",
   "source": [
    "def reduce_spaces(text):\n",
    "    regex = r'\\s+'\n",
    "    replace = ' '\n",
    "    return re.sub(regex, replace, text)\n",
    "\n",
    "print(reduce_spaces('Ale       tu    dużo  spacji.'))"
   ],
   "id": "ac2a0902372e7691",
   "outputs": [
    {
     "name": "stdout",
     "output_type": "stream",
     "text": [
      "Ale tu dużo spacji.\n"
     ]
    }
   ],
   "execution_count": 44
  },
  {
   "metadata": {},
   "cell_type": "markdown",
   "source": "### Zadanie 12. Napisz program, który usunie wszystkie białe znaki z łańcucha.",
   "id": "97feb0b471ee9cc9"
  },
  {
   "metadata": {
    "ExecuteTime": {
     "end_time": "2024-12-02T15:20:58.193572Z",
     "start_time": "2024-12-02T15:20:58.181818Z"
    }
   },
   "cell_type": "code",
   "source": [
    "def remove_whitespaces(text):\n",
    "    regex = r'\\s+'\n",
    "    replace = ''\n",
    "    return re.sub(regex, replace, text)\n",
    "\n",
    "print(remove_whitespaces('Po   co  tu \\n te  białe \\t znaki'))"
   ],
   "id": "6873d260dff3b0cb",
   "outputs": [
    {
     "name": "stdout",
     "output_type": "stream",
     "text": [
      "Pocotutebiałeznaki\n"
     ]
    }
   ],
   "execution_count": 46
  },
  {
   "metadata": {},
   "cell_type": "markdown",
   "source": "### Zadanie 13. Napisz program, który usunie z łańcucha wszystkie znaki oprócz znaków alfanumerycznych.",
   "id": "b29856193ed01af5"
  },
  {
   "metadata": {
    "ExecuteTime": {
     "end_time": "2024-12-02T15:22:44.689583Z",
     "start_time": "2024-12-02T15:22:44.672284Z"
    }
   },
   "cell_type": "code",
   "source": [
    "def remove_non_alphanumeric(text):\n",
    "    regex = r'[^a-zA-Z0-9]'\n",
    "    replace = ''\n",
    "    return re.sub(regex, replace, text)\n",
    "\n",
    "print(remove_non_alphanumeric('Nie lubimy zn@ków #nie alfanumerycznych!'))"
   ],
   "id": "30d0855486f22712",
   "outputs": [
    {
     "name": "stdout",
     "output_type": "stream",
     "text": [
      "Nielubimyznkwniealfanumerycznych\n"
     ]
    }
   ],
   "execution_count": 48
  },
  {
   "metadata": {},
   "cell_type": "markdown",
   "source": "### Zadanie 14. Napisz program, który znajdzie w łańcuchu wszystkie adresy URL.",
   "id": "12288e103cfa7d6c"
  },
  {
   "metadata": {
    "ExecuteTime": {
     "end_time": "2024-12-02T15:03:39.902705Z",
     "start_time": "2024-12-02T15:03:39.888455Z"
    }
   },
   "cell_type": "code",
   "source": [
    "def find_urls(text):\n",
    "    regex = r'https?://[^\\s,]+'\n",
    "    return re.findall(regex, text)\n",
    "\n",
    "text = 'Użyj wyszukiwarki https://www.google.com lub https://bing.com aby przeglądać internet'\n",
    "print(find_urls(text))"
   ],
   "id": "3c695ecda295ea6f",
   "outputs": [
    {
     "name": "stdout",
     "output_type": "stream",
     "text": [
      "['https://www.google.com', 'https://bing.com']\n"
     ]
    }
   ],
   "execution_count": 35
  },
  {
   "metadata": {},
   "cell_type": "markdown",
   "source": "### Zadanie 15. Napisz program, który zastąpi jeden ciąg znaków na inny bez brania pod uwagę wielkości liter.",
   "id": "7c3609a8e1413aec"
  },
  {
   "metadata": {
    "ExecuteTime": {
     "end_time": "2024-12-02T15:03:39.907077Z",
     "start_time": "2024-12-02T15:03:39.903769Z"
    }
   },
   "cell_type": "code",
   "source": "",
   "id": "8c1a7182a2794959",
   "outputs": [],
   "execution_count": 35
  },
  {
   "metadata": {},
   "cell_type": "markdown",
   "source": "### Zadanie 16. Napisz program, który podzieli łańcuch z wieloma separatorami. Uwaga: Separator to sekwencja jednego lub więcej znaków używanych do określania granicy między oddzielnymi, niezależnymi regionami w postaci zwykłego tekstu lub innych strumieni danych. Przykładem separatora jest znak przecinka, który działa jako ogranicznik pola w sekwencji wartości rozdzielonych przecinkami.",
   "id": "1ea59761cb88ce31"
  },
  {
   "metadata": {
    "ExecuteTime": {
     "end_time": "2024-12-02T15:03:39.919169Z",
     "start_time": "2024-12-02T15:03:39.908085Z"
    }
   },
   "cell_type": "code",
   "source": "",
   "id": "2a8f51adc150dd71",
   "outputs": [],
   "execution_count": 35
  },
  {
   "metadata": {},
   "cell_type": "markdown",
   "source": "### Zadanie 17. Napisz program, który usunie z łańcucha słowa o długości mniejszej lub równej od podanej liczby.",
   "id": "ba9ed7bbebb3cec"
  },
  {
   "metadata": {
    "ExecuteTime": {
     "end_time": "2024-12-02T15:03:39.923959Z",
     "start_time": "2024-12-02T15:03:39.919169Z"
    }
   },
   "cell_type": "code",
   "source": "",
   "id": "7ab18cbc8589ad8f",
   "outputs": [],
   "execution_count": 35
  },
  {
   "metadata": {},
   "cell_type": "markdown",
   "source": "### Zadanie 18. Napisz program, który usunie z łańcucha podciągi ujęte w nawiasy, razem z nawiasami. Przykładowe dane: [„przykład (.com)”, „w3resource”, „github (.com)”, „stackoverflow (.com)”] Oczekiwany wynik: przykład w3resource github przepełnienie stosu",
   "id": "1fad9d27108be58d"
  },
  {
   "metadata": {
    "ExecuteTime": {
     "end_time": "2024-12-02T15:03:39.936678Z",
     "start_time": "2024-12-02T15:03:39.923959Z"
    }
   },
   "cell_type": "code",
   "source": "",
   "id": "c78d690849919bdf",
   "outputs": [],
   "execution_count": 35
  }
 ],
 "metadata": {
  "kernelspec": {
   "display_name": "Python 3",
   "language": "python",
   "name": "python3"
  },
  "language_info": {
   "codemirror_mode": {
    "name": "ipython",
    "version": 2
   },
   "file_extension": ".py",
   "mimetype": "text/x-python",
   "name": "python",
   "nbconvert_exporter": "python",
   "pygments_lexer": "ipython2",
   "version": "2.7.6"
  }
 },
 "nbformat": 4,
 "nbformat_minor": 5
}
