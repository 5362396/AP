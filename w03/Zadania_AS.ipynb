{
 "cells": [
  {
   "metadata": {},
   "cell_type": "markdown",
   "source": "# 1 Iteratory",
   "id": "b8af4e6f635fdf09"
  },
  {
   "metadata": {},
   "cell_type": "markdown",
   "source": "### 1. Napisz program, który dla danej listy miast wypisze te miasta stosując iterator oraz instrukcję iteracyjną while. Wykorzystaj wyjątek StopIteration.",
   "id": "3395a77a552afe48"
  },
  {
   "cell_type": "code",
   "id": "initial_id",
   "metadata": {
    "collapsed": true,
    "ExecuteTime": {
     "end_time": "2024-11-04T13:57:27.321555Z",
     "start_time": "2024-11-04T13:57:27.303522Z"
    }
   },
   "source": [
    "cities = ['Olsztyn', 'Warszawa', 'Kraków', 'Gdańsk', 'Dobre Miasto']\n",
    "\n",
    "cities_iterator = iter(cities)\n",
    "try:\n",
    "    while True:\n",
    "        city = next(cities_iterator)\n",
    "        print(city)\n",
    "except StopIteration:\n",
    "    pass"
   ],
   "outputs": [
    {
     "name": "stdout",
     "output_type": "stream",
     "text": [
      "Olsztyn\n",
      "Warszawa\n",
      "Kraków\n",
      "Gdańsk\n",
      "Dobre Miasto\n"
     ]
    }
   ],
   "execution_count": 71
  },
  {
   "metadata": {},
   "cell_type": "markdown",
   "source": "### 2. Napisz program biglist.py, który dla liczby n tworzy listę liczb od 1 do n, a następnie oblicza sumę liczb z tej listy. Program wywołaj w następujący sposób (przykład z Linuksa): /usr/bin/time -f \"%e sec. %M kB\" python biglist.py n gdzie n jest konkretną liczbą.",
   "id": "3172279b78f4ba8a"
  },
  {
   "metadata": {},
   "cell_type": "markdown",
   "source": [
    "(.venv) PS C:\\Users\\MSI\\PycharmProjects\\AP> python w03/biglist.py 100000000  \n",
    "Suma liczb od 1 do 100000000 wynosi: 5000000050000000  \n",
    "6.78 sec. 15200.00 kB"
   ],
   "id": "6a8c0b5927b4ca2d"
  },
  {
   "metadata": {},
   "cell_type": "markdown",
   "source": "### 3. Napisz program bigrange.py, który dla liczby n oblicza sumę liczb od 1 do n, Nie twórz listy, lecz wykorzystaj wbudowaną funkcję range. Program wywołaj w następujący sposób: /usr/bin/time -f \"%e sec. %M kB\" python bigrange.py n gdzie n jest konkretną liczbą.",
   "id": "fac03c4ca6bb77fb"
  },
  {
   "metadata": {},
   "cell_type": "markdown",
   "source": [
    "(.venv) PS C:\\Users\\MSI\\PycharmProjects\\AP> python w03/bigrange.py 100000000  \n",
    "Suma liczb od 1 do 100000000 wynosi: 5000000050000000  \n",
    "2.47 sec. 14188.00 kB"
   ],
   "id": "cb492215d0f53adf"
  },
  {
   "metadata": {},
   "cell_type": "markdown",
   "source": "### 4. Korzystając z informacji dostarczonej przez program /usr/bin/time dla dwóch powyższych programów, wyciągnij odpowiednie wnioski.",
   "id": "4550d30a91c68d07"
  },
  {
   "metadata": {},
   "cell_type": "markdown",
   "source": [
    "Zużycie pamięci: Program biglist.py wykorzystuje więcej pamięci, ponieważ tworzy pełną listę liczb od 1 do n. Program bigrange.py używa generatora range, co znacznie ogranicza wykorzystanie pamięci.\n",
    "\n",
    "Czas wykonania: bigrange.py jest szybszy przy dużych wartościach n, dzięki mniejszemu obciążeniu pamięci."
   ],
   "id": "72fcaf4361bd8748"
  },
  {
   "metadata": {},
   "cell_type": "markdown",
   "source": "### 5. Napisz program, który dla danej listy temperatur w skali Celsjusza, przekształci tę listę w listę temperatur w skali Fahrenheita. Użyj wyrażenia lambda oraz wbudowanej funkcji map.",
   "id": "a139efada98ca487"
  },
  {
   "metadata": {
    "ExecuteTime": {
     "end_time": "2024-11-04T13:57:27.337570Z",
     "start_time": "2024-11-04T13:57:27.328562Z"
    }
   },
   "cell_type": "code",
   "source": [
    "celsius = [0, 21, 37, -8, -26]\n",
    "fahrenheit = list(map(lambda c: round(c * 9 / 5 + 32, 2), celsius))\n",
    "\n",
    "print('Temperatury w stopniach Celsjusza:', celsius)\n",
    "print('Temperatury w stopniach Fahrenheita:', fahrenheit)"
   ],
   "id": "17eda92d02b0ecf1",
   "outputs": [
    {
     "name": "stdout",
     "output_type": "stream",
     "text": [
      "Temperatury w stopniach Celsjusza: [0, 21, 37, -8, -26]\n",
      "Temperatury w stopniach Fahrenheita: [32.0, 69.8, 98.6, 17.6, -14.8]\n"
     ]
    }
   ],
   "execution_count": 72
  },
  {
   "metadata": {},
   "cell_type": "markdown",
   "source": "### 6. Napisz program, który dla danej listy temperatur w skali Fahrenheita, przekształci tę listę w listę temperatur w skali Celsjusza. Użyj wyrażenia lambda oraz wbudowanej funkcji map.",
   "id": "db047baad9b2ccba"
  },
  {
   "metadata": {
    "ExecuteTime": {
     "end_time": "2024-11-04T13:57:27.352583Z",
     "start_time": "2024-11-04T13:57:27.338571Z"
    }
   },
   "cell_type": "code",
   "source": [
    "fahrenheit = [32, 69.8, 98.6, 17.6, -14.8]\n",
    "celsius = list(map(lambda f: round((f - 32) * 5 / 9, 2), fahrenheit))\n",
    "\n",
    "print('Temperatury w stopniach Fahrenheita:', fahrenheit)\n",
    "print('Temperatury w stopniach Celsjusza:', celsius)"
   ],
   "id": "e96390b529100dc6",
   "outputs": [
    {
     "name": "stdout",
     "output_type": "stream",
     "text": [
      "Temperatury w stopniach Fahrenheita: [32, 69.8, 98.6, 17.6, -14.8]\n",
      "Temperatury w stopniach Celsjusza: [0.0, 21.0, 37.0, -8.0, -26.0]\n"
     ]
    }
   ],
   "execution_count": 73
  },
  {
   "metadata": {},
   "cell_type": "markdown",
   "source": "### 7. Napisz program, który wygeneruje listę liczb Fibonacciego o podanej długości, a następnie stosując wyrażenie lambda oraz wbudowaną funkcję filter utworzy listę nieparzystych liczb Fibonacciego.",
   "id": "f5cc707629588b10"
  },
  {
   "metadata": {
    "ExecuteTime": {
     "end_time": "2024-11-04T13:57:27.367597Z",
     "start_time": "2024-11-04T13:57:27.353584Z"
    }
   },
   "cell_type": "code",
   "source": [
    "def generate_fibonacci(n):\n",
    "    sequence = [0, 1]\n",
    "    for i in range(2, n):\n",
    "        sequence.append(sequence[-1] + sequence[-2])\n",
    "    return sequence[:n]"
   ],
   "id": "28fe89152460a603",
   "outputs": [],
   "execution_count": 74
  },
  {
   "metadata": {
    "ExecuteTime": {
     "end_time": "2024-11-04T13:57:27.383117Z",
     "start_time": "2024-11-04T13:57:27.370105Z"
    }
   },
   "cell_type": "code",
   "source": [
    "n = 10\n",
    "fibonacci_sequence = generate_fibonacci(n)"
   ],
   "id": "40df4bc1a2ec8f50",
   "outputs": [],
   "execution_count": 75
  },
  {
   "metadata": {
    "ExecuteTime": {
     "end_time": "2024-11-04T13:57:27.399132Z",
     "start_time": "2024-11-04T13:57:27.384118Z"
    }
   },
   "cell_type": "code",
   "source": [
    "fibonacci_odd = list(filter(lambda x: x % 2 != 0, fibonacci_sequence))\n",
    "\n",
    "print('Ciąg Fibonacciego:', fibonacci_sequence)\n",
    "print('Nieparzyste liczby Fibonacciego:', fibonacci_odd)"
   ],
   "id": "1735516d736367b9",
   "outputs": [
    {
     "name": "stdout",
     "output_type": "stream",
     "text": [
      "Ciąg Fibonacciego: [0, 1, 1, 2, 3, 5, 8, 13, 21, 34]\n",
      "Nieparzyste liczby Fibonacciego: [1, 1, 3, 5, 13, 21]\n"
     ]
    }
   ],
   "execution_count": 76
  },
  {
   "metadata": {},
   "cell_type": "markdown",
   "source": "### 8. Napisz program, który wygeneruje listę liczb Fibonacciego o podanej długości, a następnie stosując wyrażenie lambda oraz wbudowaną funkcję filter utworzy listę parzystych liczb Fibonacciego.",
   "id": "f681dc1d1382d719"
  },
  {
   "metadata": {
    "ExecuteTime": {
     "end_time": "2024-11-04T13:57:27.415146Z",
     "start_time": "2024-11-04T13:57:27.400132Z"
    }
   },
   "cell_type": "code",
   "source": [
    "fibonacci_even = list(filter(lambda x: x % 2 == 0, fibonacci_sequence))\n",
    "\n",
    "print('Ciąg Fibonacciego:', fibonacci_sequence)\n",
    "print('Parzyste liczby Fibonacciego:', fibonacci_even)"
   ],
   "id": "fd122102dbc31121",
   "outputs": [
    {
     "name": "stdout",
     "output_type": "stream",
     "text": [
      "Ciąg Fibonacciego: [0, 1, 1, 2, 3, 5, 8, 13, 21, 34]\n",
      "Parzyste liczby Fibonacciego: [0, 2, 8, 34]\n"
     ]
    }
   ],
   "execution_count": 77
  },
  {
   "metadata": {},
   "cell_type": "markdown",
   "source": "### 9. Napisz program, który dla danej listy liczb znajdzie największą liczbę stosując wbudowaną funkcję max oraz funkcję reduce z modułu functools.",
   "id": "49ae1a5cd9cba06c"
  },
  {
   "metadata": {
    "ExecuteTime": {
     "end_time": "2024-11-04T13:57:27.430778Z",
     "start_time": "2024-11-04T13:57:27.416147Z"
    }
   },
   "cell_type": "code",
   "source": [
    "from functools import reduce\n",
    "\n",
    "numbers = [5, 20, -15, 10, 15]\n",
    "max_reduce = reduce(max, numbers)\n",
    "print('Największa liczba (max):', max_reduce)"
   ],
   "id": "5025d535e5f0a386",
   "outputs": [
    {
     "name": "stdout",
     "output_type": "stream",
     "text": [
      "Największa liczba (max): 20\n"
     ]
    }
   ],
   "execution_count": 78
  },
  {
   "metadata": {},
   "cell_type": "markdown",
   "source": "### 10. Napisz program, który dla danej listy liczb znajdzie największą liczbę stosując odpowiednie wyrażenie lambda oraz funkcję reduce z modułu functools. W wywołaniu funkcji reduce nie korzystaj z wbudowanej funcji max.",
   "id": "ad85b729358157a"
  },
  {
   "metadata": {
    "ExecuteTime": {
     "end_time": "2024-11-04T13:57:27.446683Z",
     "start_time": "2024-11-04T13:57:27.432162Z"
    }
   },
   "cell_type": "code",
   "source": [
    "max_lambda = reduce(lambda x, y: x if x > y else y, numbers)\n",
    "print('Największa liczba (lambda):', max_reduce)"
   ],
   "id": "8648f683d22b90e6",
   "outputs": [
    {
     "name": "stdout",
     "output_type": "stream",
     "text": [
      "Największa liczba (lambda): 20\n"
     ]
    }
   ],
   "execution_count": 79
  }
 ],
 "metadata": {
  "kernelspec": {
   "display_name": "Python 3",
   "language": "python",
   "name": "python3"
  },
  "language_info": {
   "codemirror_mode": {
    "name": "ipython",
    "version": 2
   },
   "file_extension": ".py",
   "mimetype": "text/x-python",
   "name": "python",
   "nbconvert_exporter": "python",
   "pygments_lexer": "ipython2",
   "version": "2.7.6"
  }
 },
 "nbformat": 4,
 "nbformat_minor": 5
}
