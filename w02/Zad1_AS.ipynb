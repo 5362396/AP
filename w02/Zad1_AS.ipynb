{
 "cells": [
  {
   "metadata": {},
   "cell_type": "markdown",
   "source": "# Argumenty funkcji – quiz",
   "id": "2371a9e9dd4feb66"
  },
  {
   "metadata": {},
   "cell_type": "markdown",
   "source": "### 1. Co wyświetla poniższy kod i dlaczego?",
   "id": "aaffeb91d9ab24a6"
  },
  {
   "cell_type": "code",
   "id": "initial_id",
   "metadata": {
    "collapsed": true,
    "ExecuteTime": {
     "end_time": "2024-10-24T16:35:30.592670Z",
     "start_time": "2024-10-24T16:35:30.589968Z"
    }
   },
   "source": [
    "def func(a, b = 4, c = 5):\n",
    "    print(a, b, c)\n",
    "func(1, 2)"
   ],
   "outputs": [
    {
     "name": "stdout",
     "output_type": "stream",
     "text": [
      "1 2 5\n"
     ]
    }
   ],
   "execution_count": 21
  },
  {
   "metadata": {},
   "cell_type": "markdown",
   "source": "Kod wyświetla \"1 2 5\", ponieważ przekazujemy pozycyjnie liczby 1 i 2 jako argumenty a i b, argument c przyjmuje wartość domyślną 5.",
   "id": "420661d2f44a2239"
  },
  {
   "metadata": {},
   "cell_type": "markdown",
   "source": "### 2. Co wyświetla poniższy kod i dlaczego?",
   "id": "7f6baf21b0f2f57c"
  },
  {
   "metadata": {
    "ExecuteTime": {
     "end_time": "2024-10-24T16:35:30.596345Z",
     "start_time": "2024-10-24T16:35:30.593669Z"
    }
   },
   "cell_type": "code",
   "source": [
    "def func(a, b, c = 5):\n",
    "    print(a, b, c)\n",
    "func(1, c = 3, b = 2)"
   ],
   "id": "22f19942bbb7707",
   "outputs": [
    {
     "name": "stdout",
     "output_type": "stream",
     "text": [
      "1 2 3\n"
     ]
    }
   ],
   "execution_count": 22
  },
  {
   "metadata": {},
   "cell_type": "markdown",
   "source": "Kod wyświetla \"1 2 3\", ponieważ przekazujemy pozycyjnie liczbę 1 jako argument a oraz jako argumenty słów kluczowych 2 jako b i 3 jako c.",
   "id": "33a3abfbbe941157"
  },
  {
   "metadata": {},
   "cell_type": "markdown",
   "source": "### 3. Co wyświetla poniższy kod i dlaczego?",
   "id": "920c29cc8bbe3e72"
  },
  {
   "metadata": {
    "ExecuteTime": {
     "end_time": "2024-10-24T16:35:30.599985Z",
     "start_time": "2024-10-24T16:35:30.596345Z"
    }
   },
   "cell_type": "code",
   "source": [
    "def func(a, *args):\n",
    "    print(a, args)\n",
    "func(1, 2, 3)"
   ],
   "id": "bd2d69cc50eeb813",
   "outputs": [
    {
     "name": "stdout",
     "output_type": "stream",
     "text": [
      "1 (2, 3)\n"
     ]
    }
   ],
   "execution_count": 23
  },
  {
   "metadata": {},
   "cell_type": "markdown",
   "source": "Kod wyświetla \"1 (2, 3)\", ponieważ wyświeltamy przekazany pozycyjnie argument a równy 1 oraz tuplę argumentów opcjonalnych nienazwanych, w tym przypadku wartości 2 i 3.",
   "id": "3ab66160b557bb4e"
  },
  {
   "metadata": {},
   "cell_type": "markdown",
   "source": "### 4. Co wyświetla poniższy kod i dlaczego?",
   "id": "845f100bf739e6c0"
  },
  {
   "metadata": {
    "ExecuteTime": {
     "end_time": "2024-10-24T16:35:30.606964Z",
     "start_time": "2024-10-24T16:35:30.599985Z"
    }
   },
   "cell_type": "code",
   "source": [
    "def func(a, **kwargs):\n",
    "    print(a, kwargs)\n",
    "func(a = 1, c = 3, b = 2)"
   ],
   "id": "c67041d904f9b259",
   "outputs": [
    {
     "name": "stdout",
     "output_type": "stream",
     "text": [
      "1 {'c': 3, 'b': 2}\n"
     ]
    }
   ],
   "execution_count": 24
  },
  {
   "metadata": {},
   "cell_type": "markdown",
   "source": "Kod wyświetla \"1 {'c': 3, 'b': 2}, ponieważ przekazujemy jako argumenty słów kluczowych 1 jako a, 3 jako c i 2 jako b, a funkcja przyjmuje oraz wyświetla argument a i słownik argumentów opcjonalnych nazywanych poprzez przekazany klucz argumentów.",
   "id": "466ac561de261b51"
  },
  {
   "metadata": {},
   "cell_type": "markdown",
   "source": "### 5. Jaki będzie wynik poniższego kodu i dlaczego?",
   "id": "1da18c444915e38"
  },
  {
   "metadata": {
    "ExecuteTime": {
     "end_time": "2024-10-24T16:35:30.610547Z",
     "start_time": "2024-10-24T16:35:30.606964Z"
    }
   },
   "cell_type": "code",
   "source": [
    "def func(a, b, c = 3, d = 4):\n",
    "    print(a, b, c, d)\n",
    "func(1, *(5, 6))"
   ],
   "id": "49ad1469b65d4c96",
   "outputs": [
    {
     "name": "stdout",
     "output_type": "stream",
     "text": [
      "1 5 6 4\n"
     ]
    }
   ],
   "execution_count": 25
  },
  {
   "metadata": {},
   "cell_type": "markdown",
   "source": "Kod wyświetla \"1 5 6 4\", ponieważ przekazujemy jako argumenty pozycyjne 1 jako a oraz tuplę (5, 6) ale od razu rozpakowaną, więc 5 jako argument b i 6 jako argument c. Argument d przyjmuję wartość domyślną 4.",
   "id": "c678cb0a5318f4b1"
  }
 ],
 "metadata": {
  "kernelspec": {
   "display_name": "Python 3",
   "language": "python",
   "name": "python3"
  },
  "language_info": {
   "codemirror_mode": {
    "name": "ipython",
    "version": 2
   },
   "file_extension": ".py",
   "mimetype": "text/x-python",
   "name": "python",
   "nbconvert_exporter": "python",
   "pygments_lexer": "ipython2",
   "version": "2.7.6"
  }
 },
 "nbformat": 4,
 "nbformat_minor": 5
}
