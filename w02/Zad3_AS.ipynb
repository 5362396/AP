{
 "cells": [
  {
   "metadata": {},
   "cell_type": "markdown",
   "source": "### 1. Znajdź wszystkie liczby z przedziału 1-1000, które są podzielne przez 7.",
   "id": "b8b85e15e58f9cef"
  },
  {
   "cell_type": "code",
   "id": "initial_id",
   "metadata": {
    "collapsed": true,
    "ExecuteTime": {
     "end_time": "2024-10-24T17:58:31.453768Z",
     "start_time": "2024-10-24T17:58:31.449803Z"
    }
   },
   "source": [
    "seven = [x for x in range(1, 1001) if x % 7 == 0]\n",
    "print(seven)"
   ],
   "outputs": [
    {
     "name": "stdout",
     "output_type": "stream",
     "text": [
      "[7, 14, 21, 28, 35, 42, 49, 56, 63, 70, 77, 84, 91, 98, 105, 112, 119, 126, 133, 140, 147, 154, 161, 168, 175, 182, 189, 196, 203, 210, 217, 224, 231, 238, 245, 252, 259, 266, 273, 280, 287, 294, 301, 308, 315, 322, 329, 336, 343, 350, 357, 364, 371, 378, 385, 392, 399, 406, 413, 420, 427, 434, 441, 448, 455, 462, 469, 476, 483, 490, 497, 504, 511, 518, 525, 532, 539, 546, 553, 560, 567, 574, 581, 588, 595, 602, 609, 616, 623, 630, 637, 644, 651, 658, 665, 672, 679, 686, 693, 700, 707, 714, 721, 728, 735, 742, 749, 756, 763, 770, 777, 784, 791, 798, 805, 812, 819, 826, 833, 840, 847, 854, 861, 868, 875, 882, 889, 896, 903, 910, 917, 924, 931, 938, 945, 952, 959, 966, 973, 980, 987, 994]\n"
     ]
    }
   ],
   "execution_count": 89
  },
  {
   "metadata": {},
   "cell_type": "markdown",
   "source": "### 2. Znajdź wszystkie liczby z przedziału 1-1000, które mają w sobie cyfrę 3.",
   "id": "675968f3c0eb9522"
  },
  {
   "metadata": {
    "ExecuteTime": {
     "end_time": "2024-10-24T17:58:31.482802Z",
     "start_time": "2024-10-24T17:58:31.478962Z"
    }
   },
   "cell_type": "code",
   "source": [
    "three = [x for x in range(1, 1001) if '3' in str(x)]\n",
    "print(three)"
   ],
   "id": "ec34c9b4aad8823d",
   "outputs": [
    {
     "name": "stdout",
     "output_type": "stream",
     "text": [
      "[3, 13, 23, 30, 31, 32, 33, 34, 35, 36, 37, 38, 39, 43, 53, 63, 73, 83, 93, 103, 113, 123, 130, 131, 132, 133, 134, 135, 136, 137, 138, 139, 143, 153, 163, 173, 183, 193, 203, 213, 223, 230, 231, 232, 233, 234, 235, 236, 237, 238, 239, 243, 253, 263, 273, 283, 293, 300, 301, 302, 303, 304, 305, 306, 307, 308, 309, 310, 311, 312, 313, 314, 315, 316, 317, 318, 319, 320, 321, 322, 323, 324, 325, 326, 327, 328, 329, 330, 331, 332, 333, 334, 335, 336, 337, 338, 339, 340, 341, 342, 343, 344, 345, 346, 347, 348, 349, 350, 351, 352, 353, 354, 355, 356, 357, 358, 359, 360, 361, 362, 363, 364, 365, 366, 367, 368, 369, 370, 371, 372, 373, 374, 375, 376, 377, 378, 379, 380, 381, 382, 383, 384, 385, 386, 387, 388, 389, 390, 391, 392, 393, 394, 395, 396, 397, 398, 399, 403, 413, 423, 430, 431, 432, 433, 434, 435, 436, 437, 438, 439, 443, 453, 463, 473, 483, 493, 503, 513, 523, 530, 531, 532, 533, 534, 535, 536, 537, 538, 539, 543, 553, 563, 573, 583, 593, 603, 613, 623, 630, 631, 632, 633, 634, 635, 636, 637, 638, 639, 643, 653, 663, 673, 683, 693, 703, 713, 723, 730, 731, 732, 733, 734, 735, 736, 737, 738, 739, 743, 753, 763, 773, 783, 793, 803, 813, 823, 830, 831, 832, 833, 834, 835, 836, 837, 838, 839, 843, 853, 863, 873, 883, 893, 903, 913, 923, 930, 931, 932, 933, 934, 935, 936, 937, 938, 939, 943, 953, 963, 973, 983, 993]\n"
     ]
    }
   ],
   "execution_count": 90
  },
  {
   "metadata": {},
   "cell_type": "markdown",
   "source": "",
   "id": "eb26e5a8550ca424"
  },
  {
   "metadata": {},
   "cell_type": "markdown",
   "source": "### 3. Policz liczbę spacji w ciągu znaków.",
   "id": "e1db4f5570a4b300"
  },
  {
   "metadata": {
    "ExecuteTime": {
     "end_time": "2024-10-24T17:58:31.487242Z",
     "start_time": "2024-10-24T17:58:31.483801Z"
    }
   },
   "cell_type": "code",
   "source": [
    "text = \"ciekawe ile   wyjdzie tu    spacji \"\n",
    "space = len([char for char in text if char == ' '])\n",
    "print(space)"
   ],
   "id": "ae9e797efe2b854b",
   "outputs": [
    {
     "name": "stdout",
     "output_type": "stream",
     "text": [
      "10\n"
     ]
    }
   ],
   "execution_count": 91
  },
  {
   "metadata": {
    "ExecuteTime": {
     "end_time": "2024-10-24T17:58:31.491447Z",
     "start_time": "2024-10-24T17:58:31.488242Z"
    }
   },
   "cell_type": "code",
   "source": "text.count(\" \")  # prościej bez list comprehension",
   "id": "72ef861c694620dc",
   "outputs": [
    {
     "data": {
      "text/plain": [
       "10"
      ]
     },
     "execution_count": 92,
     "metadata": {},
     "output_type": "execute_result"
    }
   ],
   "execution_count": 92
  },
  {
   "metadata": {},
   "cell_type": "markdown",
   "source": "### 4. Znajdź wszystkie słowa w ciągu, które mają mniej niż cztery litery.",
   "id": "6a4c0f4313edb69c"
  },
  {
   "metadata": {
    "ExecuteTime": {
     "end_time": "2024-10-24T17:58:31.500708Z",
     "start_time": "2024-10-24T17:58:31.492447Z"
    }
   },
   "cell_type": "code",
   "source": [
    "short_words = [word for word in text.split() if len(word) < 4]\n",
    "print(short_words)"
   ],
   "id": "5e9c13b19f2b080f",
   "outputs": [
    {
     "name": "stdout",
     "output_type": "stream",
     "text": [
      "['ile', 'tu']\n"
     ]
    }
   ],
   "execution_count": 93
  },
  {
   "metadata": {},
   "cell_type": "markdown",
   "source": "### 5. Znajdź wspólne liczby w dwóch listach (bez użycia krotek lub zbiorów):",
   "id": "b8bd80e49b4457f5"
  },
  {
   "metadata": {
    "ExecuteTime": {
     "end_time": "2024-10-24T17:58:31.504578Z",
     "start_time": "2024-10-24T17:58:31.500708Z"
    }
   },
   "cell_type": "code",
   "source": [
    "lista_a = [1, 2, 3, 4]\n",
    "lista_b = [2, 3, 4, 5]\n",
    "\n",
    "repeated = [x for x in lista_a if x in lista_b]\n",
    "print(repeated)"
   ],
   "id": "b443619390b6142d",
   "outputs": [
    {
     "name": "stdout",
     "output_type": "stream",
     "text": [
      "[2, 3, 4]\n"
     ]
    }
   ],
   "execution_count": 94
  },
  {
   "metadata": {},
   "cell_type": "markdown",
   "source": "### 6. Napisz program, który stosując konstrukcję list składanych utworzy listę liczb całkowitych z przedziału [1..n] podzielnych przez 3 lub podzielnych przez 5, gdzie n jest liczbą podaną jako pierwszy argument programu.",
   "id": "2aaf93c9ba4895f3"
  },
  {
   "metadata": {
    "ExecuteTime": {
     "end_time": "2024-10-24T17:58:33.434599Z",
     "start_time": "2024-10-24T17:58:31.505577Z"
    }
   },
   "cell_type": "code",
   "source": [
    "def three_or_five(n):\n",
    "    return [x for x in range(1, n + 1) if x % 3 == 0 or x % 5 == 0]\n",
    "\n",
    "\n",
    "n = int(input(\"*ZAD 6* Podaj wartość n: \"))\n",
    "print(three_or_five(n))"
   ],
   "id": "5d37d76cbeaefbd2",
   "outputs": [
    {
     "name": "stdout",
     "output_type": "stream",
     "text": [
      "[3, 5, 6, 9, 10, 12, 15, 18, 20, 21, 24, 25, 27, 30]\n"
     ]
    }
   ],
   "execution_count": 95
  },
  {
   "metadata": {},
   "cell_type": "markdown",
   "source": "### 7. Napisz program, w którym stosując konstrukcję list składanych, utwórz n-elementową listę liczby (gdzie n jest liczbą podaną jako pierwszy argument programu) liczb typu float z przedziału [0..100) zaokrąglonych do dwóch miejsc po przecinku (użyj funkcji random.uniform).",
   "id": "435ea61d40d347ac"
  },
  {
   "metadata": {
    "ExecuteTime": {
     "end_time": "2024-10-24T17:58:34.333106Z",
     "start_time": "2024-10-24T17:58:33.435599Z"
    }
   },
   "cell_type": "code",
   "source": [
    "import random\n",
    "\n",
    "def random_list(n):\n",
    "    return [round(random.uniform(0, 100), 2) for _ in range(n)]\n",
    "\n",
    "n = int(input(\"*ZAD 7* Podaj wartość n: \"))\n",
    "liczby = random_list(n)"
   ],
   "id": "aea8f2b7a403483f",
   "outputs": [],
   "execution_count": 96
  },
  {
   "metadata": {},
   "cell_type": "markdown",
   "source": "### Następnie wypisz na ekran listę liczby oraz stosując konstrukcję list składanych, dla każdego z poniższych punktów napisz jedną instrukcję wypisującą:",
   "id": "d8ee280d058f74d7"
  },
  {
   "metadata": {
    "ExecuteTime": {
     "end_time": "2024-10-24T17:58:34.338333Z",
     "start_time": "2024-10-24T17:58:34.334108Z"
    }
   },
   "cell_type": "code",
   "source": "print(liczby)",
   "id": "f9b56675b6804bf7",
   "outputs": [
    {
     "name": "stdout",
     "output_type": "stream",
     "text": [
      "[70.06, 25.71, 26.17, 95.19, 69.01, 92.41, 56.49, 28.99, 60.84, 54.6, 37.79, 11.09, 13.91]\n"
     ]
    }
   ],
   "execution_count": 97
  },
  {
   "metadata": {},
   "cell_type": "markdown",
   "source": "### (a) listę dodatnich liczb z listy liczby",
   "id": "21cfaf172d83b1bb"
  },
  {
   "metadata": {
    "ExecuteTime": {
     "end_time": "2024-10-24T17:58:34.343495Z",
     "start_time": "2024-10-24T17:58:34.339445Z"
    }
   },
   "cell_type": "code",
   "source": [
    "# [0...100) i tak zakłada, że są dodatnie\n",
    "positive = [x for x in liczby if x > 0]\n",
    "print(\"Dodatnie liczby:\", positive)"
   ],
   "id": "7d55ef060bc92bc5",
   "outputs": [
    {
     "name": "stdout",
     "output_type": "stream",
     "text": [
      "Dodatnie liczby: [70.06, 25.71, 26.17, 95.19, 69.01, 92.41, 56.49, 28.99, 60.84, 54.6, 37.79, 11.09, 13.91]\n"
     ]
    }
   ],
   "execution_count": 98
  },
  {
   "metadata": {},
   "cell_type": "markdown",
   "source": "### (b) listę dodatnich liczb z listy liczby przekształconych do typu int",
   "id": "ca46e3937bab62d4"
  },
  {
   "metadata": {
    "ExecuteTime": {
     "end_time": "2024-10-24T17:58:34.349252Z",
     "start_time": "2024-10-24T17:58:34.345491Z"
    }
   },
   "cell_type": "code",
   "source": [
    "positive_ints = [int(x) for x in liczby if x > 0]\n",
    "print(\"Dodatnie inty:\", positive_ints)"
   ],
   "id": "98a51d0391a69321",
   "outputs": [
    {
     "name": "stdout",
     "output_type": "stream",
     "text": [
      "Dodatnie inty: [70, 25, 26, 95, 69, 92, 56, 28, 60, 54, 37, 11, 13]\n"
     ]
    }
   ],
   "execution_count": 99
  },
  {
   "metadata": {},
   "cell_type": "markdown",
   "source": "### (c) listę wartości funkcji math.floor dla liczb z listy liczby",
   "id": "7c7d7b4de936f0e3"
  },
  {
   "metadata": {
    "ExecuteTime": {
     "end_time": "2024-10-24T17:58:34.353566Z",
     "start_time": "2024-10-24T17:58:34.350269Z"
    }
   },
   "cell_type": "code",
   "source": [
    "import math\n",
    "\n",
    "floor = [math.floor(x) for x in liczby]\n",
    "print(\"Wartości math.floor:\", floor)"
   ],
   "id": "91d3ad96878f9b22",
   "outputs": [
    {
     "name": "stdout",
     "output_type": "stream",
     "text": [
      "Wartości math.floor: [70, 25, 26, 95, 69, 92, 56, 28, 60, 54, 37, 11, 13]\n"
     ]
    }
   ],
   "execution_count": 100
  },
  {
   "metadata": {},
   "cell_type": "markdown",
   "source": "### (d) listę wartości funkcji math.ceil dla liczb z listy liczby",
   "id": "de123ca133d416ce"
  },
  {
   "metadata": {
    "ExecuteTime": {
     "end_time": "2024-10-24T17:58:34.357547Z",
     "start_time": "2024-10-24T17:58:34.354557Z"
    }
   },
   "cell_type": "code",
   "source": [
    "import math\n",
    "\n",
    "ceil = [math.ceil(x) for x in liczby]\n",
    "print(\"Wartości math.ceil:\", ceil)"
   ],
   "id": "7a8433f336120f70",
   "outputs": [
    {
     "name": "stdout",
     "output_type": "stream",
     "text": [
      "Wartości math.ceil: [71, 26, 27, 96, 70, 93, 57, 29, 61, 55, 38, 12, 14]\n"
     ]
    }
   ],
   "execution_count": 101
  },
  {
   "metadata": {},
   "cell_type": "markdown",
   "source": "### (e) listę wartości funkcji math.log dla dodatnich liczb z listy liczby",
   "id": "28c9ad8b5a3f4d37"
  },
  {
   "metadata": {
    "ExecuteTime": {
     "end_time": "2024-10-24T17:58:34.362005Z",
     "start_time": "2024-10-24T17:58:34.358542Z"
    }
   },
   "cell_type": "code",
   "source": [
    "log = [round(math.log(x), 3) for x in liczby if x > 0]\n",
    "print(\"Wartości math.log:\", log)"
   ],
   "id": "3103490f2acc7fc8",
   "outputs": [
    {
     "name": "stdout",
     "output_type": "stream",
     "text": [
      "Wartości math.log: [4.249, 3.247, 3.265, 4.556, 4.234, 4.526, 4.034, 3.367, 4.108, 4.0, 3.632, 2.406, 2.633]\n"
     ]
    }
   ],
   "execution_count": 102
  },
  {
   "metadata": {
    "ExecuteTime": {
     "end_time": "2024-10-24T17:58:34.364991Z",
     "start_time": "2024-10-24T17:58:34.362997Z"
    }
   },
   "cell_type": "code",
   "source": "",
   "id": "b256fa5c581ecced",
   "outputs": [],
   "execution_count": 102
  }
 ],
 "metadata": {
  "kernelspec": {
   "display_name": "Python 3",
   "language": "python",
   "name": "python3"
  },
  "language_info": {
   "codemirror_mode": {
    "name": "ipython",
    "version": 2
   },
   "file_extension": ".py",
   "mimetype": "text/x-python",
   "name": "python",
   "nbconvert_exporter": "python",
   "pygments_lexer": "ipython2",
   "version": "2.7.6"
  }
 },
 "nbformat": 4,
 "nbformat_minor": 5
}
